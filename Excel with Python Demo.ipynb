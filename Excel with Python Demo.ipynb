{
 "cells": [
  {
   "cell_type": "code",
   "execution_count": 3,
   "metadata": {},
   "outputs": [],
   "source": [
    "import openpyxl\n",
    "import numpy as np\n",
    "import pandas as pd\n",
    "\n",
    "folder = {}\n",
    "wb = openpyxl.Workbook()\n",
    "\n",
    "#Generate 5 dummy Excel Workbooks for demo\n",
    "for m in range(5):\n",
    "  folder[str(m)] = wb\n",
    "  for i in range(3):\n",
    "    folder[str(m)].create_sheet(title=f'Sheet {i}')\n",
    "    for j in range(1,101):\n",
    "      folder[str(m)][f'Sheet {i}'][f'A{j}'].value = f'Test for workbook {m} sheet {i} in column A'\n",
    "      folder[str(m)][f'Sheet {i}'][f'B{j}'].value = f'Test for workbook {m} sheet {i} in column B'\n",
    "      folder[str(m)].save(filename = f'C:/Users/username/Desktop/Workbook_{m}.xlsx')"
   ]
  },
  {
   "cell_type": "code",
   "execution_count": 10,
   "metadata": {},
   "outputs": [],
   "source": [
    "# Collate the 5 Excel Workbook into a dictionary containing 5 Pandas dataframe\n",
    "df_folder = {}\n",
    "for i in range(5):\n",
    "    filename = 'C:/Users/username/Desktop/Workbook_'\n",
    "    df_folder[str(i)] = pd.read_excel(f'{filename}{i}.xlsx', sheet_name = None, header = None)"
   ]
  },
  {
   "cell_type": "code",
   "execution_count": 16,
   "metadata": {},
   "outputs": [],
   "source": [
    "#Deploy Excel Writer\n",
    "writer = pd.ExcelWriter('C:/Users/username/Desktop/Workbook_Combined.xlsx', engine = 'xlsxwriter')\n",
    "\n",
    "# Merge 3 sheets within each Workbook to 1 sheet, and consolidate every sheet into 1 workbook\n",
    "for i in range(5):\n",
    "    frames = [df_folder[str(i)]['Sheet 0'], df_folder[str(i)]['Sheet 1'], df_folder[str(i)]['Sheet 2']]\n",
    "    combined_df = pd.concat(frames, axis=0)\n",
    "    combined_df.to_excel(writer, sheet_name = f'From WB {i}')\n",
    "\n",
    "#Save combined workbook\n",
    "writer.save()"
   ]
  },
  {
   "cell_type": "code",
   "execution_count": null,
   "metadata": {},
   "outputs": [],
   "source": []
  }
 ],
 "metadata": {
  "kernelspec": {
   "display_name": "Python 3",
   "language": "python",
   "name": "python3"
  },
  "language_info": {
   "codemirror_mode": {
    "name": "ipython",
    "version": 3
   },
   "file_extension": ".py",
   "mimetype": "text/x-python",
   "name": "python",
   "nbconvert_exporter": "python",
   "pygments_lexer": "ipython3",
   "version": "3.7.3"
  }
 },
 "nbformat": 4,
 "nbformat_minor": 2
}
